version https://git-lfs.github.com/spec/v1
oid sha256:dfd2b80cfb2e6ef63f557f01c89801f52871a4879058971d0b82a8a572f31520
size 504156
